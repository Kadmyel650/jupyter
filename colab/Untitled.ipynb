{
 "cells": [
  {
   "cell_type": "code",
   "execution_count": 1,
   "id": "8a13f5bc",
   "metadata": {},
   "outputs": [],
   "source": [
    "nome = \"Joao\"\n",
    "idade = 18\n",
    "peso = 70.5"
   ]
  },
  {
   "cell_type": "code",
   "execution_count": 2,
   "id": "cb50dae4",
   "metadata": {},
   "outputs": [
    {
     "data": {
      "text/plain": [
       "'Joao'"
      ]
     },
     "execution_count": 2,
     "metadata": {},
     "output_type": "execute_result"
    }
   ],
   "source": [
    "nome.capitalize()"
   ]
  },
  {
   "cell_type": "code",
   "execution_count": 3,
   "id": "55a13ec3",
   "metadata": {},
   "outputs": [],
   "source": [
    "nome =\"Joao paulo\""
   ]
  },
  {
   "cell_type": "code",
   "execution_count": 4,
   "id": "44932d27",
   "metadata": {},
   "outputs": [
    {
     "data": {
      "text/plain": [
       "'Joao paulo'"
      ]
     },
     "execution_count": 4,
     "metadata": {},
     "output_type": "execute_result"
    }
   ],
   "source": [
    "nome.strip()"
   ]
  },
  {
   "cell_type": "code",
   "execution_count": 5,
   "id": "76dd930c",
   "metadata": {},
   "outputs": [
    {
     "data": {
      "text/plain": [
       "['Joao', 'paulo']"
      ]
     },
     "execution_count": 5,
     "metadata": {},
     "output_type": "execute_result"
    }
   ],
   "source": [
    "nome.split()"
   ]
  },
  {
   "cell_type": "code",
   "execution_count": 6,
   "id": "46c0452e",
   "metadata": {},
   "outputs": [
    {
     "ename": "AttributeError",
     "evalue": "'float' object has no attribute '_ceil_'",
     "output_type": "error",
     "traceback": [
      "\u001b[1;31m---------------------------------------------------------------------------\u001b[0m",
      "\u001b[1;31mAttributeError\u001b[0m                            Traceback (most recent call last)",
      "Cell \u001b[1;32mIn[6], line 1\u001b[0m\n\u001b[1;32m----> 1\u001b[0m \u001b[43mpeso\u001b[49m\u001b[38;5;241;43m.\u001b[39;49m\u001b[43m_ceil_\u001b[49m()\n",
      "\u001b[1;31mAttributeError\u001b[0m: 'float' object has no attribute '_ceil_'"
     ]
    }
   ],
   "source": [
    "peso._ceil_()"
   ]
  },
  {
   "cell_type": "code",
   "execution_count": 7,
   "id": "c6482512",
   "metadata": {},
   "outputs": [
    {
     "data": {
      "text/plain": [
       "70"
      ]
     },
     "execution_count": 7,
     "metadata": {},
     "output_type": "execute_result"
    }
   ],
   "source": [
    "peso.__trunc__()"
   ]
  },
  {
   "cell_type": "code",
   "execution_count": 10,
   "id": "0664e4c3",
   "metadata": {},
   "outputs": [
    {
     "data": {
      "text/plain": [
       "[4, -1, 6, 1.0, 1, 1, 32]"
      ]
     },
     "execution_count": 10,
     "metadata": {},
     "output_type": "execute_result"
    }
   ],
   "source": [
    "[2+2,\n",
    "2-3,\n",
    "2*3,\n",
    "2/2,\n",
    "2//2,\n",
    "3%2, 2**5]"
   ]
  },
  {
   "cell_type": "code",
   "execution_count": 12,
   "id": "169cf520",
   "metadata": {},
   "outputs": [
    {
     "data": {
      "text/plain": [
       "['luzsolar', 'luzluz', 'luzsolarluzsolar']"
      ]
     },
     "execution_count": 12,
     "metadata": {},
     "output_type": "execute_result"
    }
   ],
   "source": [
    "[\"luz\"+\"solar\",\"luz\"*2, (\"luz\"+\"solar\")*2]"
   ]
  },
  {
   "cell_type": "code",
   "execution_count": 13,
   "id": "1588a516",
   "metadata": {},
   "outputs": [
    {
     "name": "stdout",
     "output_type": "stream",
     "text": [
      "luz Joao paulo\n"
     ]
    }
   ],
   "source": [
    "print(\"luz\",nome)"
   ]
  },
  {
   "cell_type": "code",
   "execution_count": 14,
   "id": "9c5438bd",
   "metadata": {},
   "outputs": [
    {
     "name": "stdout",
     "output_type": "stream",
     "text": [
      "70\n"
     ]
    }
   ],
   "source": [
    "print(int(peso))"
   ]
  },
  {
   "cell_type": "code",
   "execution_count": 15,
   "id": "28dfc6b5",
   "metadata": {},
   "outputs": [
    {
     "data": {
      "text/plain": [
       "'luz'"
      ]
     },
     "execution_count": 15,
     "metadata": {},
     "output_type": "execute_result"
    }
   ],
   "source": [
    "'luz'"
   ]
  },
  {
   "cell_type": "code",
   "execution_count": 17,
   "id": "8ce59626",
   "metadata": {},
   "outputs": [
    {
     "name": "stdout",
     "output_type": "stream",
     "text": [
      "Nome Joao paulo, peso 70.5 kg, idade18\n"
     ]
    }
   ],
   "source": [
    "print(\"Nome {0}, peso {1} kg, idade{2}\". format(nome,peso,idade))"
   ]
  },
  {
   "cell_type": "code",
   "execution_count": 18,
   "id": "bed83559",
   "metadata": {},
   "outputs": [
    {
     "name": "stdout",
     "output_type": "stream",
     "text": [
      "Nome Joao paulo. peso: 70.50, idade 18\n"
     ]
    }
   ],
   "source": [
    "print(\"Nome %s. peso: %2.2f, idade %d\"%(nome,peso, idade))"
   ]
  },
  {
   "cell_type": "code",
   "execution_count": 21,
   "id": "eb98f2b8",
   "metadata": {},
   "outputs": [],
   "source": [
    "def frase(): \n",
    "    print(\"Imprimindo uma frase!\")"
   ]
  },
  {
   "cell_type": "code",
   "execution_count": 22,
   "id": "fe21aa2e",
   "metadata": {},
   "outputs": [
    {
     "name": "stdout",
     "output_type": "stream",
     "text": [
      "Imprimindo uma frase!\n"
     ]
    }
   ],
   "source": [
    "frase()"
   ]
  },
  {
   "cell_type": "code",
   "execution_count": 23,
   "id": "73a2412a",
   "metadata": {},
   "outputs": [],
   "source": [
    "def frase(x):\n",
    "    print(\"Bem vindo, \", x)"
   ]
  },
  {
   "cell_type": "code",
   "execution_count": 24,
   "id": "d74e1c66",
   "metadata": {},
   "outputs": [
    {
     "name": "stdout",
     "output_type": "stream",
     "text": [
      "Bem vindo,  joao\n"
     ]
    }
   ],
   "source": [
    "frase(\"joao\")"
   ]
  },
  {
   "cell_type": "code",
   "execution_count": 25,
   "id": "cfb7840f",
   "metadata": {},
   "outputs": [],
   "source": [
    "def soma(x,y):\n",
    "    return x+y"
   ]
  },
  {
   "cell_type": "code",
   "execution_count": 26,
   "id": "0cb3bec6",
   "metadata": {},
   "outputs": [
    {
     "name": "stdout",
     "output_type": "stream",
     "text": [
      "5\n"
     ]
    }
   ],
   "source": [
    "print(soma(2,3))"
   ]
  },
  {
   "cell_type": "code",
   "execution_count": 27,
   "id": "463ab868",
   "metadata": {},
   "outputs": [],
   "source": [
    "def soma_sub(x,y):\n",
    "    soma= x+y\n",
    "    sub = x-y\n",
    "    return soma, sub"
   ]
  },
  {
   "cell_type": "code",
   "execution_count": 28,
   "id": "456bcc4a",
   "metadata": {},
   "outputs": [],
   "source": [
    "soma, sub = soma_sub(2,3)"
   ]
  },
  {
   "cell_type": "code",
   "execution_count": 29,
   "id": "bf17ea54",
   "metadata": {},
   "outputs": [
    {
     "name": "stdout",
     "output_type": "stream",
     "text": [
      "5 -1\n"
     ]
    }
   ],
   "source": [
    "print (soma,sub)"
   ]
  },
  {
   "cell_type": "code",
   "execution_count": 30,
   "id": "e96ab686",
   "metadata": {},
   "outputs": [],
   "source": [
    "def cadastro_usuario(sistema, login ='user', senha='123'):\n",
    "    print(f'Cadastro de usuarios no sistema{sistema}')\n",
    "    print(f'login: {login}')\n",
    "    print(f'senha: {senha}')"
   ]
  },
  {
   "cell_type": "code",
   "execution_count": 33,
   "id": "06e1eaff",
   "metadata": {},
   "outputs": [
    {
     "name": "stdout",
     "output_type": "stream",
     "text": [
      "Cadastro de usuarios no sistemaGoogle\n",
      "login: samuka\n",
      "senha: python\n"
     ]
    }
   ],
   "source": [
    "sistema1= 'Google'\n",
    "login_1='samuka'\n",
    "senha_1='python'\n",
    "cadastro_usuario(sistema1,login_1, senha_1)"
   ]
  },
  {
   "cell_type": "code",
   "execution_count": 34,
   "id": "26fb9516",
   "metadata": {},
   "outputs": [
    {
     "name": "stdout",
     "output_type": "stream",
     "text": [
      "Cadastro de usuarios no sistemaMoodle\n",
      "login: ze\n",
      "senha: 123\n"
     ]
    }
   ],
   "source": [
    "sistema2='Moodle'\n",
    "login_2 ='ze'\n",
    "cadastro_usuario(sistema2, login_2)"
   ]
  },
  {
   "cell_type": "code",
   "execution_count": 35,
   "id": "637c2e9f",
   "metadata": {},
   "outputs": [],
   "source": [
    "def cad(senha, login='user'):\n",
    "    print(f'login:{login}')\n",
    "    print(f'senha: {senha}')"
   ]
  },
  {
   "cell_type": "code",
   "execution_count": 36,
   "id": "dd6bd8c3",
   "metadata": {},
   "outputs": [],
   "source": [
    "def soma (x:int , y:int)-> int:\n",
    "    return x+y"
   ]
  },
  {
   "cell_type": "code",
   "execution_count": 37,
   "id": "2e4f2b6b",
   "metadata": {},
   "outputs": [
    {
     "data": {
      "text/plain": [
       "5"
      ]
     },
     "execution_count": 37,
     "metadata": {},
     "output_type": "execute_result"
    }
   ],
   "source": [
    "soma(2,3)"
   ]
  },
  {
   "cell_type": "code",
   "execution_count": 38,
   "id": "f06d188b",
   "metadata": {},
   "outputs": [
    {
     "data": {
      "text/plain": [
       "5.5"
      ]
     },
     "execution_count": 38,
     "metadata": {},
     "output_type": "execute_result"
    }
   ],
   "source": [
    "soma(2.2,3.3)"
   ]
  },
  {
   "cell_type": "code",
   "execution_count": 41,
   "id": "37e0566d",
   "metadata": {},
   "outputs": [
    {
     "data": {
      "text/plain": [
       "False"
      ]
     },
     "execution_count": 41,
     "metadata": {},
     "output_type": "execute_result"
    }
   ],
   "source": [
    "isinstance(peso,int)"
   ]
  },
  {
   "cell_type": "code",
   "execution_count": 42,
   "id": "4b0be0a0",
   "metadata": {},
   "outputs": [],
   "source": [
    "#comentario"
   ]
  },
  {
   "cell_type": "code",
   "execution_count": 43,
   "id": "b0609583",
   "metadata": {},
   "outputs": [
    {
     "name": "stdout",
     "output_type": "stream",
     "text": [
      "reprovado\n"
     ]
    }
   ],
   "source": [
    "media = 4.5\n",
    "if media>=6:\n",
    "    print(\"aprovado\")\n",
    "else:\n",
    "    print(\"reprovado\")"
   ]
  },
  {
   "cell_type": "code",
   "execution_count": 44,
   "id": "1090a2ef",
   "metadata": {},
   "outputs": [
    {
     "name": "stdout",
     "output_type": "stream",
     "text": [
      "recuperação\n"
     ]
    }
   ],
   "source": [
    "media = 4.5\n",
    "if media>=6:\n",
    "    print(\"aprovado\")\n",
    "elif (media<6)& (media>4):#and/or\n",
    "    print(\"recuperação\")\n",
    "else:\n",
    "    print(\"reprovado\")"
   ]
  },
  {
   "cell_type": "code",
   "execution_count": 45,
   "id": "044824c1",
   "metadata": {},
   "outputs": [],
   "source": [
    "status = 'reprovado' if media <6 else 'aprovado'"
   ]
  },
  {
   "cell_type": "code",
   "execution_count": 46,
   "id": "214f18be",
   "metadata": {},
   "outputs": [
    {
     "name": "stdout",
     "output_type": "stream",
     "text": [
      "reprovado\n"
     ]
    }
   ],
   "source": [
    "print(status)"
   ]
  },
  {
   "cell_type": "code",
   "execution_count": 1,
   "id": "b61f3f0f",
   "metadata": {},
   "outputs": [
    {
     "ename": "SyntaxError",
     "evalue": "invalid syntax. Maybe you meant '==' or ':=' instead of '='? (4014292436.py, line 1)",
     "output_type": "error",
     "traceback": [
      "\u001b[1;36m  Cell \u001b[1;32mIn[1], line 1\u001b[1;36m\u001b[0m\n\u001b[1;33m    for(i=0;i <10;i++):\u001b[0m\n\u001b[1;37m        ^\u001b[0m\n\u001b[1;31mSyntaxError\u001b[0m\u001b[1;31m:\u001b[0m invalid syntax. Maybe you meant '==' or ':=' instead of '='?\n"
     ]
    }
   ],
   "source": [
    "for(i=0;i <10;i++):\n",
    "    print(\"ola\")"
   ]
  },
  {
   "cell_type": "code",
   "execution_count": null,
   "id": "9962089a",
   "metadata": {},
   "outputs": [],
   "source": []
  }
 ],
 "metadata": {
  "kernelspec": {
   "display_name": "Python 3 (ipykernel)",
   "language": "python",
   "name": "python3"
  },
  "language_info": {
   "codemirror_mode": {
    "name": "ipython",
    "version": 3
   },
   "file_extension": ".py",
   "mimetype": "text/x-python",
   "name": "python",
   "nbconvert_exporter": "python",
   "pygments_lexer": "ipython3",
   "version": "3.11.1"
  }
 },
 "nbformat": 4,
 "nbformat_minor": 5
}
