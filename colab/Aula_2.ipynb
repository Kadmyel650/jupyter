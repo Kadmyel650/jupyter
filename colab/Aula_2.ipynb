{
 "cells": [
  {
   "cell_type": "code",
   "execution_count": 7,
   "id": "6cad9fd0",
   "metadata": {},
   "outputs": [],
   "source": [
    "nome1='Joao Pancadão'\n",
    "nome2='Marina Silva'"
   ]
  },
  {
   "cell_type": "code",
   "execution_count": 2,
   "id": "e63166f2",
   "metadata": {},
   "outputs": [
    {
     "data": {
      "text/plain": [
       "'J'"
      ]
     },
     "execution_count": 2,
     "metadata": {},
     "output_type": "execute_result"
    }
   ],
   "source": [
    "nome1[0]"
   ]
  },
  {
   "cell_type": "code",
   "execution_count": 3,
   "id": "e42a9905",
   "metadata": {},
   "outputs": [
    {
     "data": {
      "text/plain": [
       "'a'"
      ]
     },
     "execution_count": 3,
     "metadata": {},
     "output_type": "execute_result"
    }
   ],
   "source": [
    "nome1[6]"
   ]
  },
  {
   "cell_type": "code",
   "execution_count": 4,
   "id": "98197241",
   "metadata": {},
   "outputs": [
    {
     "data": {
      "text/plain": [
       "'ã'"
      ]
     },
     "execution_count": 4,
     "metadata": {},
     "output_type": "execute_result"
    }
   ],
   "source": [
    "nome1[-2]"
   ]
  },
  {
   "cell_type": "code",
   "execution_count": 5,
   "id": "835ef780",
   "metadata": {},
   "outputs": [
    {
     "data": {
      "text/plain": [
       "'Jo'"
      ]
     },
     "execution_count": 5,
     "metadata": {},
     "output_type": "execute_result"
    }
   ],
   "source": [
    "nome1[:2]"
   ]
  },
  {
   "cell_type": "code",
   "execution_count": 6,
   "id": "9a1adddd",
   "metadata": {},
   "outputs": [
    {
     "data": {
      "text/plain": [
       "'ao '"
      ]
     },
     "execution_count": 6,
     "metadata": {},
     "output_type": "execute_result"
    }
   ],
   "source": [
    "nome1[2:5]"
   ]
  },
  {
   "cell_type": "code",
   "execution_count": 7,
   "id": "7362dff5",
   "metadata": {},
   "outputs": [
    {
     "data": {
      "text/plain": [
       "13"
      ]
     },
     "execution_count": 7,
     "metadata": {},
     "output_type": "execute_result"
    }
   ],
   "source": [
    "len(nome1)"
   ]
  },
  {
   "cell_type": "code",
   "execution_count": 8,
   "id": "286864df",
   "metadata": {},
   "outputs": [
    {
     "ename": "TypeError",
     "evalue": "'str' object does not support item assignment",
     "output_type": "error",
     "traceback": [
      "\u001b[1;31m---------------------------------------------------------------------------\u001b[0m",
      "\u001b[1;31mTypeError\u001b[0m                                 Traceback (most recent call last)",
      "Cell \u001b[1;32mIn[8], line 1\u001b[0m\n\u001b[1;32m----> 1\u001b[0m \u001b[43mnome1\u001b[49m\u001b[43m[\u001b[49m\u001b[38;5;241;43m5\u001b[39;49m\u001b[43m]\u001b[49m\u001b[38;5;241m=\u001b[39m\u001b[38;5;124m'\u001b[39m\u001b[38;5;124mL\u001b[39m\u001b[38;5;124m'\u001b[39m\n",
      "\u001b[1;31mTypeError\u001b[0m: 'str' object does not support item assignment"
     ]
    }
   ],
   "source": [
    "nome1[5]='L'"
   ]
  },
  {
   "cell_type": "code",
   "execution_count": 9,
   "id": "51994782",
   "metadata": {},
   "outputs": [
    {
     "data": {
      "text/plain": [
       "'JOAO PANCADÃO'"
      ]
     },
     "execution_count": 9,
     "metadata": {},
     "output_type": "execute_result"
    }
   ],
   "source": [
    "nome1.upper()"
   ]
  },
  {
   "cell_type": "code",
   "execution_count": 10,
   "id": "83aebd6b",
   "metadata": {},
   "outputs": [
    {
     "data": {
      "text/plain": [
       "'joao pancadão'"
      ]
     },
     "execution_count": 10,
     "metadata": {},
     "output_type": "execute_result"
    }
   ],
   "source": [
    "nome1.lower()"
   ]
  },
  {
   "cell_type": "code",
   "execution_count": 12,
   "id": "a1d18878",
   "metadata": {},
   "outputs": [
    {
     "data": {
      "text/plain": [
       "True"
      ]
     },
     "execution_count": 12,
     "metadata": {},
     "output_type": "execute_result"
    }
   ],
   "source": [
    "nome1.startswith(\"Joao\")"
   ]
  },
  {
   "cell_type": "code",
   "execution_count": 13,
   "id": "16ccec71",
   "metadata": {},
   "outputs": [
    {
     "data": {
      "text/plain": [
       "False"
      ]
     },
     "execution_count": 13,
     "metadata": {},
     "output_type": "execute_result"
    }
   ],
   "source": [
    "nome1.startswith(\"Pedro\")"
   ]
  },
  {
   "cell_type": "code",
   "execution_count": 14,
   "id": "56bac69e",
   "metadata": {},
   "outputs": [
    {
     "data": {
      "text/plain": [
       "True"
      ]
     },
     "execution_count": 14,
     "metadata": {},
     "output_type": "execute_result"
    }
   ],
   "source": [
    "nome1.lower().startswith(\"joao\")"
   ]
  },
  {
   "cell_type": "code",
   "execution_count": 16,
   "id": "d2767b9c",
   "metadata": {},
   "outputs": [
    {
     "data": {
      "text/plain": [
       "True"
      ]
     },
     "execution_count": 16,
     "metadata": {},
     "output_type": "execute_result"
    }
   ],
   "source": [
    "nome1.endswith('ão')"
   ]
  },
  {
   "cell_type": "code",
   "execution_count": 17,
   "id": "86ae7c07",
   "metadata": {},
   "outputs": [
    {
     "name": "stdout",
     "output_type": "stream",
     "text": [
      "e uma imagem\n"
     ]
    }
   ],
   "source": [
    "arquivo='imagem.png'\n",
    "\n",
    "if arquivo.endswith('.png'):\n",
    "    print(\"e uma imagem\")\n",
    "else:\n",
    "    print(\"nao e imagem\")"
   ]
  },
  {
   "cell_type": "code",
   "execution_count": 18,
   "id": "a78d4a6c",
   "metadata": {},
   "outputs": [
    {
     "data": {
      "text/plain": [
       "['Joao', 'Pancadão']"
      ]
     },
     "execution_count": 18,
     "metadata": {},
     "output_type": "execute_result"
    }
   ],
   "source": [
    "nome1.split(' ')"
   ]
  },
  {
   "cell_type": "code",
   "execution_count": 23,
   "id": "c5db9c51",
   "metadata": {},
   "outputs": [
    {
     "name": "stdout",
     "output_type": "stream",
     "text": [
      "['~', 'documentos', 'arquivos']\n"
     ]
    }
   ],
   "source": [
    "diretorio='~/documentos/arquivos'\n",
    "dir = diretorio.split('/')\n",
    "print(dir)"
   ]
  },
  {
   "cell_type": "code",
   "execution_count": 20,
   "id": "39e6b1db",
   "metadata": {},
   "outputs": [
    {
     "name": "stdout",
     "output_type": "stream",
     "text": [
      "imagem\n"
     ]
    }
   ],
   "source": [
    "nome_imagem=arquivo.lower().split(\".png\")[0]\n",
    "print(nome_imagem)"
   ]
  },
  {
   "cell_type": "code",
   "execution_count": 22,
   "id": "588c49d5",
   "metadata": {},
   "outputs": [
    {
     "name": "stdout",
     "output_type": "stream",
     "text": [
      "~/documentos/arquivos\n"
     ]
    }
   ],
   "source": [
    "diretorio1 = '/'.join(dir)\n",
    "print(diretorio1)"
   ]
  },
  {
   "cell_type": "code",
   "execution_count": 1,
   "id": "7d42a380",
   "metadata": {},
   "outputs": [
    {
     "name": "stdout",
     "output_type": "stream",
     "text": [
      "a casa de paulo e azul\n"
     ]
    }
   ],
   "source": [
    "palavras =['a','casa','de','paulo', 'e','azul']\n",
    "\n",
    "frase=' '.join(palavras)\n",
    "print(frase)"
   ]
  },
  {
   "cell_type": "code",
   "execution_count": 9,
   "id": "56e57154",
   "metadata": {},
   "outputs": [
    {
     "data": {
      "text/plain": [
       "'JOAO PANCADÃO'"
      ]
     },
     "execution_count": 9,
     "metadata": {},
     "output_type": "execute_result"
    }
   ],
   "source": [
    "nome1.upper()"
   ]
  },
  {
   "cell_type": "code",
   "execution_count": 11,
   "id": "bc595935",
   "metadata": {},
   "outputs": [
    {
     "data": {
      "text/plain": [
       "'joao pancadão'"
      ]
     },
     "execution_count": 11,
     "metadata": {},
     "output_type": "execute_result"
    }
   ],
   "source": [
    "nome1.lower()"
   ]
  },
  {
   "cell_type": "code",
   "execution_count": 12,
   "id": "966a5376",
   "metadata": {},
   "outputs": [
    {
     "name": "stdout",
     "output_type": "stream",
     "text": [
      "['J', 'o', 'a', 'o', ' ', 'P', 'a', 'n', 'c', 'a', 'd', 'ã', 'o']\n"
     ]
    }
   ],
   "source": [
    "strip1 = list(nome1)\n",
    "print(strip1)"
   ]
  },
  {
   "cell_type": "code",
   "execution_count": 13,
   "id": "ca2b0c90",
   "metadata": {},
   "outputs": [
    {
     "name": "stdout",
     "output_type": "stream",
     "text": [
      "Joao Pancadão\n"
     ]
    }
   ],
   "source": [
    "nome1= ''.join(strip1)\n",
    "print(nome1)"
   ]
  },
  {
   "cell_type": "code",
   "execution_count": 14,
   "id": "bfc30795",
   "metadata": {},
   "outputs": [],
   "source": [
    "nome3= nome1.replace(\"jopo\",\"Joao\")"
   ]
  },
  {
   "cell_type": "markdown",
   "id": "8bbc8b15",
   "metadata": {},
   "source": []
  },
  {
   "cell_type": "code",
   "execution_count": 15,
   "id": "726afc30",
   "metadata": {},
   "outputs": [],
   "source": [
    "nome4 = nome1+''+nome2"
   ]
  },
  {
   "cell_type": "code",
   "execution_count": 16,
   "id": "a0b063d4",
   "metadata": {},
   "outputs": [
    {
     "name": "stdout",
     "output_type": "stream",
     "text": [
      "Joao PancadãoMarina Silva\n"
     ]
    }
   ],
   "source": [
    "print(nome4)"
   ]
  },
  {
   "cell_type": "code",
   "execution_count": 17,
   "id": "777cde2e",
   "metadata": {},
   "outputs": [
    {
     "name": "stdout",
     "output_type": "stream",
     "text": [
      "joao Pancadão\n"
     ]
    }
   ],
   "source": [
    "print('joao'+nome1[4:])"
   ]
  },
  {
   "cell_type": "code",
   "execution_count": 18,
   "id": "8ce59b73",
   "metadata": {},
   "outputs": [],
   "source": [
    "lista = [1,2,3,4]\n",
    "tupla=(1,2,3)"
   ]
  },
  {
   "cell_type": "code",
   "execution_count": 19,
   "id": "b798794e",
   "metadata": {},
   "outputs": [
    {
     "name": "stdout",
     "output_type": "stream",
     "text": [
      "[1, 2, 3, 4]\n",
      "(1, 2, 3)\n"
     ]
    }
   ],
   "source": [
    "print(lista)\n",
    "print(tupla)"
   ]
  },
  {
   "cell_type": "code",
   "execution_count": 20,
   "id": "41a9d309",
   "metadata": {},
   "outputs": [
    {
     "name": "stdout",
     "output_type": "stream",
     "text": [
      "<class 'tuple'>\n"
     ]
    }
   ],
   "source": [
    "tupla2 = 1,2,3\n",
    "print(type(tupla2))"
   ]
  },
  {
   "cell_type": "code",
   "execution_count": 21,
   "id": "2fbdebdb",
   "metadata": {},
   "outputs": [
    {
     "name": "stdout",
     "output_type": "stream",
     "text": [
      "(1, 2, 3)\n"
     ]
    }
   ],
   "source": [
    "print(tupla2)"
   ]
  },
  {
   "cell_type": "code",
   "execution_count": 25,
   "id": "3312e402",
   "metadata": {},
   "outputs": [
    {
     "name": "stdout",
     "output_type": "stream",
     "text": [
      "1\n",
      "2\n",
      "3\n"
     ]
    }
   ],
   "source": [
    "x,y,z = tupla\n",
    "print(x)\n",
    "print(y)\n",
    "print(z)"
   ]
  },
  {
   "cell_type": "code",
   "execution_count": 26,
   "id": "11f6acca",
   "metadata": {},
   "outputs": [
    {
     "name": "stdout",
     "output_type": "stream",
     "text": [
      "[10, 2, 3, 4]\n"
     ]
    }
   ],
   "source": [
    "lista[0]=10\n",
    "print(lista)"
   ]
  },
  {
   "cell_type": "code",
   "execution_count": 27,
   "id": "ff989164",
   "metadata": {},
   "outputs": [
    {
     "ename": "TypeError",
     "evalue": "'tuple' object does not support item assignment",
     "output_type": "error",
     "traceback": [
      "\u001b[1;31m---------------------------------------------------------------------------\u001b[0m",
      "\u001b[1;31mTypeError\u001b[0m                                 Traceback (most recent call last)",
      "Cell \u001b[1;32mIn[27], line 1\u001b[0m\n\u001b[1;32m----> 1\u001b[0m \u001b[43mtupla\u001b[49m\u001b[43m[\u001b[49m\u001b[38;5;241;43m0\u001b[39;49m\u001b[43m]\u001b[49m\u001b[38;5;241m=\u001b[39m\u001b[38;5;241m10\u001b[39m\n",
      "\u001b[1;31mTypeError\u001b[0m: 'tuple' object does not support item assignment"
     ]
    }
   ],
   "source": [
    "tupla[0]=10"
   ]
  },
  {
   "cell_type": "code",
   "execution_count": 28,
   "id": "b3dacf34",
   "metadata": {},
   "outputs": [],
   "source": [
    "lista2 = list(tupla)"
   ]
  },
  {
   "cell_type": "code",
   "execution_count": 29,
   "id": "e38b8b9d",
   "metadata": {},
   "outputs": [
    {
     "name": "stdout",
     "output_type": "stream",
     "text": [
      "[1, 2, 3]\n"
     ]
    }
   ],
   "source": [
    "print(lista2)"
   ]
  },
  {
   "cell_type": "code",
   "execution_count": 30,
   "id": "b2d94323",
   "metadata": {},
   "outputs": [],
   "source": [
    "tupla3 = tuple(lista2)"
   ]
  },
  {
   "cell_type": "code",
   "execution_count": 31,
   "id": "22bf2696",
   "metadata": {},
   "outputs": [
    {
     "name": "stdout",
     "output_type": "stream",
     "text": [
      "(1, 2, 3)\n"
     ]
    }
   ],
   "source": [
    "print(tupla3)"
   ]
  },
  {
   "cell_type": "code",
   "execution_count": null,
   "id": "0547a7b5",
   "metadata": {},
   "outputs": [],
   "source": []
  }
 ],
 "metadata": {
  "kernelspec": {
   "display_name": "Python 3 (ipykernel)",
   "language": "python",
   "name": "python3"
  },
  "language_info": {
   "codemirror_mode": {
    "name": "ipython",
    "version": 3
   },
   "file_extension": ".py",
   "mimetype": "text/x-python",
   "name": "python",
   "nbconvert_exporter": "python",
   "pygments_lexer": "ipython3",
   "version": "3.11.1"
  }
 },
 "nbformat": 4,
 "nbformat_minor": 5
}
