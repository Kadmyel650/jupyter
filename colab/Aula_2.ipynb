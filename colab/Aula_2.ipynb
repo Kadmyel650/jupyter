{
 "cells": [
  {
   "cell_type": "code",
   "execution_count": 7,
   "id": "6cad9fd0",
   "metadata": {},
   "outputs": [],
   "source": [
    "nome1='Joao Pancadão'\n",
    "nome2='Marina Silva'"
   ]
  },
  {
   "cell_type": "code",
   "execution_count": 2,
   "id": "e63166f2",
   "metadata": {},
   "outputs": [
    {
     "data": {
      "text/plain": [
       "'J'"
      ]
     },
     "execution_count": 2,
     "metadata": {},
     "output_type": "execute_result"
    }
   ],
   "source": [
    "nome1[0]"
   ]
  },
  {
   "cell_type": "code",
   "execution_count": 3,
   "id": "e42a9905",
   "metadata": {},
   "outputs": [
    {
     "data": {
      "text/plain": [
       "'a'"
      ]
     },
     "execution_count": 3,
     "metadata": {},
     "output_type": "execute_result"
    }
   ],
   "source": [
    "nome1[6]"
   ]
  },
  {
   "cell_type": "code",
   "execution_count": 4,
   "id": "98197241",
   "metadata": {},
   "outputs": [
    {
     "data": {
      "text/plain": [
       "'ã'"
      ]
     },
     "execution_count": 4,
     "metadata": {},
     "output_type": "execute_result"
    }
   ],
   "source": [
    "nome1[-2]"
   ]
  },
  {
   "cell_type": "code",
   "execution_count": 5,
   "id": "835ef780",
   "metadata": {},
   "outputs": [
    {
     "data": {
      "text/plain": [
       "'Jo'"
      ]
     },
     "execution_count": 5,
     "metadata": {},
     "output_type": "execute_result"
    }
   ],
   "source": [
    "nome1[:2]"
   ]
  },
  {
   "cell_type": "code",
   "execution_count": 6,
   "id": "9a1adddd",
   "metadata": {},
   "outputs": [
    {
     "data": {
      "text/plain": [
       "'ao '"
      ]
     },
     "execution_count": 6,
     "metadata": {},
     "output_type": "execute_result"
    }
   ],
   "source": [
    "nome1[2:5]"
   ]
  },
  {
   "cell_type": "code",
   "execution_count": 7,
   "id": "7362dff5",
   "metadata": {},
   "outputs": [
    {
     "data": {
      "text/plain": [
       "13"
      ]
     },
     "execution_count": 7,
     "metadata": {},
     "output_type": "execute_result"
    }
   ],
   "source": [
    "len(nome1)"
   ]
  },
  {
   "cell_type": "code",
   "execution_count": 8,
   "id": "286864df",
   "metadata": {},
   "outputs": [
    {
     "ename": "TypeError",
     "evalue": "'str' object does not support item assignment",
     "output_type": "error",
     "traceback": [
      "\u001b[1;31m---------------------------------------------------------------------------\u001b[0m",
      "\u001b[1;31mTypeError\u001b[0m                                 Traceback (most recent call last)",
      "Cell \u001b[1;32mIn[8], line 1\u001b[0m\n\u001b[1;32m----> 1\u001b[0m \u001b[43mnome1\u001b[49m\u001b[43m[\u001b[49m\u001b[38;5;241;43m5\u001b[39;49m\u001b[43m]\u001b[49m\u001b[38;5;241m=\u001b[39m\u001b[38;5;124m'\u001b[39m\u001b[38;5;124mL\u001b[39m\u001b[38;5;124m'\u001b[39m\n",
      "\u001b[1;31mTypeError\u001b[0m: 'str' object does not support item assignment"
     ]
    }
   ],
   "source": [
    "nome1[5]='L'"
   ]
  },
  {
   "cell_type": "code",
   "execution_count": 9,
   "id": "51994782",
   "metadata": {},
   "outputs": [
    {
     "data": {
      "text/plain": [
       "'JOAO PANCADÃO'"
      ]
     },
     "execution_count": 9,
     "metadata": {},
     "output_type": "execute_result"
    }
   ],
   "source": [
    "nome1.upper()"
   ]
  },
  {
   "cell_type": "code",
   "execution_count": 10,
   "id": "83aebd6b",
   "metadata": {},
   "outputs": [
    {
     "data": {
      "text/plain": [
       "'joao pancadão'"
      ]
     },
     "execution_count": 10,
     "metadata": {},
     "output_type": "execute_result"
    }
   ],
   "source": [
    "nome1.lower()"
   ]
  },
  {
   "cell_type": "code",
   "execution_count": 12,
   "id": "a1d18878",
   "metadata": {},
   "outputs": [
    {
     "data": {
      "text/plain": [
       "True"
      ]
     },
     "execution_count": 12,
     "metadata": {},
     "output_type": "execute_result"
    }
   ],
   "source": [
    "nome1.startswith(\"Joao\")"
   ]
  },
  {
   "cell_type": "code",
   "execution_count": 13,
   "id": "16ccec71",
   "metadata": {},
   "outputs": [
    {
     "data": {
      "text/plain": [
       "False"
      ]
     },
     "execution_count": 13,
     "metadata": {},
     "output_type": "execute_result"
    }
   ],
   "source": [
    "nome1.startswith(\"Pedro\")"
   ]
  },
  {
   "cell_type": "code",
   "execution_count": 14,
   "id": "56bac69e",
   "metadata": {},
   "outputs": [
    {
     "data": {
      "text/plain": [
       "True"
      ]
     },
     "execution_count": 14,
     "metadata": {},
     "output_type": "execute_result"
    }
   ],
   "source": [
    "nome1.lower().startswith(\"joao\")"
   ]
  },
  {
   "cell_type": "code",
   "execution_count": 16,
   "id": "d2767b9c",
   "metadata": {},
   "outputs": [
    {
     "data": {
      "text/plain": [
       "True"
      ]
     },
     "execution_count": 16,
     "metadata": {},
     "output_type": "execute_result"
    }
   ],
   "source": [
    "nome1.endswith('ão')"
   ]
  },
  {
   "cell_type": "code",
   "execution_count": 17,
   "id": "86ae7c07",
   "metadata": {},
   "outputs": [
    {
     "name": "stdout",
     "output_type": "stream",
     "text": [
      "e uma imagem\n"
     ]
    }
   ],
   "source": [
    "arquivo='imagem.png'\n",
    "\n",
    "if arquivo.endswith('.png'):\n",
    "    print(\"e uma imagem\")\n",
    "else:\n",
    "    print(\"nao e imagem\")"
   ]
  },
  {
   "cell_type": "code",
   "execution_count": 18,
   "id": "a78d4a6c",
   "metadata": {},
   "outputs": [
    {
     "data": {
      "text/plain": [
       "['Joao', 'Pancadão']"
      ]
     },
     "execution_count": 18,
     "metadata": {},
     "output_type": "execute_result"
    }
   ],
   "source": [
    "nome1.split(' ')"
   ]
  },
  {
   "cell_type": "code",
   "execution_count": 23,
   "id": "c5db9c51",
   "metadata": {},
   "outputs": [
    {
     "name": "stdout",
     "output_type": "stream",
     "text": [
      "['~', 'documentos', 'arquivos']\n"
     ]
    }
   ],
   "source": [
    "diretorio='~/documentos/arquivos'\n",
    "dir = diretorio.split('/')\n",
    "print(dir)"
   ]
  },
  {
   "cell_type": "code",
   "execution_count": 20,
   "id": "39e6b1db",
   "metadata": {},
   "outputs": [
    {
     "name": "stdout",
     "output_type": "stream",
     "text": [
      "imagem\n"
     ]
    }
   ],
   "source": [
    "nome_imagem=arquivo.lower().split(\".png\")[0]\n",
    "print(nome_imagem)"
   ]
  },
  {
   "cell_type": "code",
   "execution_count": 22,
   "id": "588c49d5",
   "metadata": {},
   "outputs": [
    {
     "name": "stdout",
     "output_type": "stream",
     "text": [
      "~/documentos/arquivos\n"
     ]
    }
   ],
   "source": [
    "diretorio1 = '/'.join(dir)\n",
    "print(diretorio1)"
   ]
  },
  {
   "cell_type": "code",
   "execution_count": 1,
   "id": "7d42a380",
   "metadata": {},
   "outputs": [
    {
     "name": "stdout",
     "output_type": "stream",
     "text": [
      "a casa de paulo e azul\n"
     ]
    }
   ],
   "source": [
    "palavras =['a','casa','de','paulo', 'e','azul']\n",
    "\n",
    "frase=' '.join(palavras)\n",
    "print(frase)"
   ]
  },
  {
   "cell_type": "code",
   "execution_count": 9,
   "id": "de24e3ef",
   "metadata": {},
   "outputs": [
    {
     "data": {
      "text/plain": [
       "'JOAO PANCADÃO'"
      ]
     },
     "execution_count": 9,
     "metadata": {},
     "output_type": "execute_result"
    }
   ],
   "source": [
    "nome1.upper()"
   ]
  },
  {
   "cell_type": "code",
   "execution_count": 11,
   "id": "507359ed",
   "metadata": {},
   "outputs": [
    {
     "data": {
      "text/plain": [
       "'joao pancadão'"
      ]
     },
     "execution_count": 11,
     "metadata": {},
     "output_type": "execute_result"
    }
   ],
   "source": [
    "nome1.lower()"
   ]
  },
  {
   "cell_type": "code",
   "execution_count": 12,
   "id": "44e3259b",
   "metadata": {},
   "outputs": [
    {
     "name": "stdout",
     "output_type": "stream",
     "text": [
      "['J', 'o', 'a', 'o', ' ', 'P', 'a', 'n', 'c', 'a', 'd', 'ã', 'o']\n"
     ]
    }
   ],
   "source": [
    "strip1 = list(nome1)\n",
    "print(strip1)"
   ]
  },
  {
   "cell_type": "code",
   "execution_count": 13,
   "id": "f2bcde33",
   "metadata": {},
   "outputs": [
    {
     "name": "stdout",
     "output_type": "stream",
     "text": [
      "Joao Pancadão\n"
     ]
    }
   ],
   "source": [
    "nome1= ''.join(strip1)\n",
    "print(nome1)"
   ]
  },
  {
   "cell_type": "code",
   "execution_count": 14,
   "id": "4e82acd0",
   "metadata": {},
   "outputs": [],
   "source": [
    "nome3= nome1.replace(\"jopo\",\"Joao\")"
   ]
  },
  {
   "cell_type": "markdown",
   "id": "87d885d0",
   "metadata": {},
   "source": []
  },
  {
   "cell_type": "code",
   "execution_count": 15,
   "id": "2cb3a7b1",
   "metadata": {},
   "outputs": [],
   "source": [
    "nome4 = nome1+''+nome2"
   ]
  },
  {
   "cell_type": "code",
   "execution_count": 16,
   "id": "4ea7d52c",
   "metadata": {},
   "outputs": [
    {
     "name": "stdout",
     "output_type": "stream",
     "text": [
      "Joao PancadãoMarina Silva\n"
     ]
    }
   ],
   "source": [
    "print(nome4)"
   ]
  },
  {
   "cell_type": "code",
   "execution_count": 17,
   "id": "0fffaeb1",
   "metadata": {},
   "outputs": [
    {
     "name": "stdout",
     "output_type": "stream",
     "text": [
      "joao Pancadão\n"
     ]
    }
   ],
   "source": [
    "print('joao'+nome1[4:])"
   ]
  },
  {
   "cell_type": "code",
   "execution_count": 18,
   "id": "a4cf75b0",
   "metadata": {},
   "outputs": [],
   "source": [
    "lista = [1,2,3,4]\n",
    "tupla=(1,2,3)"
   ]
  },
  {
   "cell_type": "code",
   "execution_count": 19,
   "id": "bb11e40d",
   "metadata": {},
   "outputs": [
    {
     "name": "stdout",
     "output_type": "stream",
     "text": [
      "[1, 2, 3, 4]\n",
      "(1, 2, 3)\n"
     ]
    }
   ],
   "source": [
    "print(lista)\n",
    "print(tupla)"
   ]
  },
  {
   "cell_type": "code",
   "execution_count": 20,
   "id": "b9a103e8",
   "metadata": {},
   "outputs": [
    {
     "name": "stdout",
     "output_type": "stream",
     "text": [
      "<class 'tuple'>\n"
     ]
    }
   ],
   "source": [
    "tupla2 = 1,2,3\n",
    "print(type(tupla2))"
   ]
  },
  {
   "cell_type": "code",
   "execution_count": 21,
   "id": "6111c4b2",
   "metadata": {},
   "outputs": [
    {
     "name": "stdout",
     "output_type": "stream",
     "text": [
      "(1, 2, 3)\n"
     ]
    }
   ],
   "source": [
    "print(tupla2)"
   ]
  },
  {
   "cell_type": "code",
   "execution_count": 25,
   "id": "605fd6e2",
   "metadata": {},
   "outputs": [
    {
     "name": "stdout",
     "output_type": "stream",
     "text": [
      "1\n",
      "2\n",
      "3\n"
     ]
    }
   ],
   "source": [
    "x,y,z = tupla\n",
    "print(x)\n",
    "print(y)\n",
    "print(z)"
   ]
  },
  {
   "cell_type": "code",
   "execution_count": 26,
   "id": "5e9e20aa",
   "metadata": {},
   "outputs": [
    {
     "name": "stdout",
     "output_type": "stream",
     "text": [
      "[10, 2, 3, 4]\n"
     ]
    }
   ],
   "source": [
    "lista[0]=10\n",
    "print(lista)"
   ]
  },
  {
   "cell_type": "code",
   "execution_count": 27,
   "id": "bffc4550",
   "metadata": {},
   "outputs": [
    {
     "ename": "TypeError",
     "evalue": "'tuple' object does not support item assignment",
     "output_type": "error",
     "traceback": [
      "\u001b[1;31m---------------------------------------------------------------------------\u001b[0m",
      "\u001b[1;31mTypeError\u001b[0m                                 Traceback (most recent call last)",
      "Cell \u001b[1;32mIn[27], line 1\u001b[0m\n\u001b[1;32m----> 1\u001b[0m \u001b[43mtupla\u001b[49m\u001b[43m[\u001b[49m\u001b[38;5;241;43m0\u001b[39;49m\u001b[43m]\u001b[49m\u001b[38;5;241m=\u001b[39m\u001b[38;5;241m10\u001b[39m\n",
      "\u001b[1;31mTypeError\u001b[0m: 'tuple' object does not support item assignment"
     ]
    }
   ],
   "source": [
    "tupla[0]=10"
   ]
  },
  {
   "cell_type": "code",
   "execution_count": 28,
   "id": "503947f8",
   "metadata": {},
   "outputs": [],
   "source": [
    "lista2 = list(tupla)"
   ]
  },
  {
   "cell_type": "code",
   "execution_count": 29,
   "id": "101d11ac",
   "metadata": {},
   "outputs": [
    {
     "name": "stdout",
     "output_type": "stream",
     "text": [
      "[1, 2, 3]\n"
     ]
    }
   ],
   "source": [
    "print(lista2)"
   ]
  },
  {
   "cell_type": "code",
   "execution_count": 30,
   "id": "bbdcde43",
   "metadata": {},
   "outputs": [],
   "source": [
    "tupla3 = tuple(lista2)"
   ]
  },
  {
   "cell_type": "code",
   "execution_count": 31,
   "id": "3798c45c",
   "metadata": {},
   "outputs": [
    {
     "name": "stdout",
     "output_type": "stream",
     "text": [
      "(1, 2, 3)\n"
     ]
    }
   ],
   "source": [
    "print(tupla3)"
   ]
  },
  {
   "cell_type": "code",
   "execution_count": 33,
   "id": "159b32c1",
   "metadata": {},
   "outputs": [
    {
     "name": "stdout",
     "output_type": "stream",
     "text": [
      "['SOL', 'lua', 'planetas']\n"
     ]
    }
   ],
   "source": [
    "lista = ['sol','lua', 'planetas']\n",
    "lista[0] =lista[0].upper()\n",
    "print(lista)"
   ]
  },
  {
   "cell_type": "code",
   "execution_count": 34,
   "id": "efdd2d46",
   "metadata": {},
   "outputs": [
    {
     "ename": "TypeError",
     "evalue": "'tuple' object does not support item assignment",
     "output_type": "error",
     "traceback": [
      "\u001b[1;31m---------------------------------------------------------------------------\u001b[0m",
      "\u001b[1;31mTypeError\u001b[0m                                 Traceback (most recent call last)",
      "Cell \u001b[1;32mIn[34], line 2\u001b[0m\n\u001b[0;32m      1\u001b[0m tupla \u001b[38;5;241m=\u001b[39m\u001b[38;5;124m'\u001b[39m\u001b[38;5;124msol\u001b[39m\u001b[38;5;124m'\u001b[39m, \u001b[38;5;124m'\u001b[39m\u001b[38;5;124mlua\u001b[39m\u001b[38;5;124m'\u001b[39m,\u001b[38;5;124m'\u001b[39m\u001b[38;5;124mplanetas\u001b[39m\u001b[38;5;124m'\u001b[39m\n\u001b[1;32m----> 2\u001b[0m \u001b[43mtupla\u001b[49m\u001b[43m[\u001b[49m\u001b[38;5;241;43m0\u001b[39;49m\u001b[43m]\u001b[49m \u001b[38;5;241m=\u001b[39m tupla[\u001b[38;5;241m0\u001b[39m]\u001b[38;5;241m.\u001b[39mupper()\n\u001b[0;32m      3\u001b[0m \u001b[38;5;28mprint\u001b[39m(tupla)\n",
      "\u001b[1;31mTypeError\u001b[0m: 'tuple' object does not support item assignment"
     ]
    }
   ],
   "source": [
    "tupla ='sol', 'lua','planetas'\n",
    "tupla[0] = tupla[0].upper()\n",
    "print(tupla)"
   ]
  },
  {
   "cell_type": "code",
   "execution_count": 35,
   "id": "587e2d3b",
   "metadata": {},
   "outputs": [
    {
     "name": "stdout",
     "output_type": "stream",
     "text": [
      "<zip object at 0x0000015EEE9F47C0>\n",
      "[('Onix', 50000), ('Gol', 30000), ('Uno', 2000)]\n"
     ]
    }
   ],
   "source": [
    "carros = ['Onix','Gol', 'Uno']\n",
    "precos = [50000,30000,2000]\n",
    "\n",
    "carros_precos =zip(carros,precos)\n",
    "print(carros_precos)\n",
    "carros_precos = list(carros_precos)\n",
    "print(carros_precos)"
   ]
  },
  {
   "cell_type": "code",
   "execution_count": 36,
   "id": "222b2360",
   "metadata": {},
   "outputs": [
    {
     "name": "stdout",
     "output_type": "stream",
     "text": [
      "('Onix', 50000)\n",
      "('Gol', 30000)\n",
      "('Uno', 2000)\n"
     ]
    }
   ],
   "source": [
    "for x in carros_precos:\n",
    "    print(x)"
   ]
  },
  {
   "cell_type": "code",
   "execution_count": 38,
   "id": "3079c44a",
   "metadata": {},
   "outputs": [
    {
     "name": "stdout",
     "output_type": "stream",
     "text": [
      "Onix\n",
      "50000\n",
      "Gol\n",
      "30000\n",
      "Uno\n",
      "2000\n"
     ]
    }
   ],
   "source": [
    "for x,y in carros_precos:\n",
    "    print(x)\n",
    "    print(y)"
   ]
  },
  {
   "cell_type": "code",
   "execution_count": 39,
   "id": "6324cfca",
   "metadata": {},
   "outputs": [
    {
     "name": "stdout",
     "output_type": "stream",
     "text": [
      "Onix\n",
      "50000\n",
      "Gol\n",
      "30000\n",
      "Uno\n",
      "2000\n"
     ]
    }
   ],
   "source": [
    "for x,y in zip(carros,precos):\n",
    "    print(x)\n",
    "    print(y)"
   ]
  },
  {
   "cell_type": "code",
   "execution_count": 40,
   "id": "79b28d79",
   "metadata": {},
   "outputs": [
    {
     "name": "stdout",
     "output_type": "stream",
     "text": [
      "{'nome': 'pedro', 'idade': 28, 'peso': 60.0}\n"
     ]
    }
   ],
   "source": [
    "cadastro ={'nome':'pedro','idade':28,'peso':60.0}\n",
    "print(cadastro)"
   ]
  },
  {
   "cell_type": "code",
   "execution_count": 42,
   "id": "04131f96",
   "metadata": {},
   "outputs": [
    {
     "data": {
      "text/plain": [
       "'pedro'"
      ]
     },
     "execution_count": 42,
     "metadata": {},
     "output_type": "execute_result"
    }
   ],
   "source": [
    "cadastro['nome']"
   ]
  },
  {
   "cell_type": "code",
   "execution_count": 43,
   "id": "e4251958",
   "metadata": {},
   "outputs": [
    {
     "data": {
      "text/plain": [
       "28"
      ]
     },
     "execution_count": 43,
     "metadata": {},
     "output_type": "execute_result"
    }
   ],
   "source": [
    "cadastro['idade']"
   ]
  },
  {
   "cell_type": "code",
   "execution_count": 44,
   "id": "09d8ee18",
   "metadata": {},
   "outputs": [],
   "source": [
    "cadastro['idade']=30"
   ]
  },
  {
   "cell_type": "code",
   "execution_count": 45,
   "id": "b6bf58f3",
   "metadata": {},
   "outputs": [
    {
     "name": "stdout",
     "output_type": "stream",
     "text": [
      "{'nome': 'pedro', 'idade': 30, 'peso': 60.0}\n"
     ]
    }
   ],
   "source": [
    "print(cadastro)"
   ]
  },
  {
   "cell_type": "code",
   "execution_count": 46,
   "id": "07a9354d",
   "metadata": {},
   "outputs": [
    {
     "data": {
      "text/plain": [
       "60.0"
      ]
     },
     "execution_count": 46,
     "metadata": {},
     "output_type": "execute_result"
    }
   ],
   "source": [
    "cadastro['peso']"
   ]
  },
  {
   "cell_type": "code",
   "execution_count": 47,
   "id": "0d21a0df",
   "metadata": {},
   "outputs": [
    {
     "name": "stdout",
     "output_type": "stream",
     "text": [
      "{'nome': 'pedro', 'idade': 30, 'peso': 60.0, 'rg': '23486486486'}\n"
     ]
    }
   ],
   "source": [
    "cadastro['rg']='23486486486'\n",
    "print(cadastro)"
   ]
  },
  {
   "cell_type": "code",
   "execution_count": 48,
   "id": "b112f768",
   "metadata": {},
   "outputs": [
    {
     "name": "stdout",
     "output_type": "stream",
     "text": [
      "{'nome': 'pedro', 'idade': 30, 'peso': 60.0, 'rg': '23486486486', 'notas': [6.0, 2.5, 4]}\n"
     ]
    }
   ],
   "source": [
    "cadastro['notas']= [6.0,2.5,4]\n",
    "print(cadastro)"
   ]
  },
  {
   "cell_type": "code",
   "execution_count": 49,
   "id": "ce57c5b4",
   "metadata": {},
   "outputs": [
    {
     "name": "stdout",
     "output_type": "stream",
     "text": [
      "{'nome': 'pedro', 'idade': 30, 'peso': 60.0, 'rg': '23486486486', 'notas': [6.0, 2.5, 4], 1: 'usuario'}\n"
     ]
    }
   ],
   "source": [
    "cadastro[1]='usuario'\n",
    "print(cadastro)"
   ]
  },
  {
   "cell_type": "code",
   "execution_count": 52,
   "id": "0d96c50d",
   "metadata": {},
   "outputs": [
    {
     "name": "stdout",
     "output_type": "stream",
     "text": [
      "{'nome': 'pedro', 'idade': 30, 'peso': 60.0, 'rg': '23486486486', 'notas': [6.0, 2.5, 4], 1: 'usuario'}\n"
     ]
    }
   ],
   "source": [
    "cad_copia =dict(cadastro)\n",
    "print(cad_copia)"
   ]
  },
  {
   "cell_type": "code",
   "execution_count": 53,
   "id": "12caa5c8",
   "metadata": {},
   "outputs": [
    {
     "name": "stdout",
     "output_type": "stream",
     "text": [
      "{'nome': 'pedro', 'idade': 30, 'peso': 60.0, 'rg': '23486486486', 'notas': [6.0, 2.5, 4], 1: 'usuario'}\n"
     ]
    }
   ],
   "source": [
    "print(cad_copia)"
   ]
  },
  {
   "cell_type": "code",
   "execution_count": 54,
   "id": "9f1efd78",
   "metadata": {},
   "outputs": [
    {
     "data": {
      "text/plain": [
       "'usuario'"
      ]
     },
     "execution_count": 54,
     "metadata": {},
     "output_type": "execute_result"
    }
   ],
   "source": [
    "cad_copia.pop(1,None)"
   ]
  },
  {
   "cell_type": "code",
   "execution_count": 55,
   "id": "1ba633a0",
   "metadata": {},
   "outputs": [
    {
     "data": {
      "text/plain": [
       "True"
      ]
     },
     "execution_count": 55,
     "metadata": {},
     "output_type": "execute_result"
    }
   ],
   "source": [
    "'nome' in cadastro"
   ]
  },
  {
   "cell_type": "code",
   "execution_count": 56,
   "id": "c8cf68e7",
   "metadata": {},
   "outputs": [
    {
     "name": "stdout",
     "output_type": "stream",
     "text": [
      "cadastro['nome']=pedro\n",
      "cadastro['idade']=30\n",
      "cadastro['peso']=60.0\n",
      "cadastro['rg']=23486486486\n",
      "cadastro['notas']=[6.0, 2.5, 4]\n",
      "cadastro['1']=usuario\n"
     ]
    }
   ],
   "source": [
    "for chave in cadastro:\n",
    "    print(f'cadastro[\\'{chave}\\']={cadastro[chave]}')"
   ]
  },
  {
   "cell_type": "code",
   "execution_count": 57,
   "id": "75f3ed39",
   "metadata": {},
   "outputs": [
    {
     "data": {
      "text/plain": [
       "dict_keys(['nome', 'idade', 'peso', 'rg', 'notas', 1])"
      ]
     },
     "execution_count": 57,
     "metadata": {},
     "output_type": "execute_result"
    }
   ],
   "source": [
    "cadastro.keys()"
   ]
  },
  {
   "cell_type": "code",
   "execution_count": 58,
   "id": "a9c8075b",
   "metadata": {},
   "outputs": [
    {
     "data": {
      "text/plain": [
       "dict_values(['pedro', 30, 60.0, '23486486486', [6.0, 2.5, 4], 'usuario'])"
      ]
     },
     "execution_count": 58,
     "metadata": {},
     "output_type": "execute_result"
    }
   ],
   "source": [
    "cadastro.values()"
   ]
  },
  {
   "cell_type": "code",
   "execution_count": 59,
   "id": "e7aec2e9",
   "metadata": {},
   "outputs": [
    {
     "data": {
      "text/plain": [
       "dict_items([('nome', 'pedro'), ('idade', 30), ('peso', 60.0), ('rg', '23486486486'), ('notas', [6.0, 2.5, 4]), (1, 'usuario')])"
      ]
     },
     "execution_count": 59,
     "metadata": {},
     "output_type": "execute_result"
    }
   ],
   "source": [
    "cadastro.items()"
   ]
  },
  {
   "cell_type": "code",
   "execution_count": 60,
   "id": "2d7f498c",
   "metadata": {},
   "outputs": [],
   "source": [
    "import math"
   ]
  },
  {
   "cell_type": "code",
   "execution_count": 61,
   "id": "ceaf6973",
   "metadata": {},
   "outputs": [
    {
     "data": {
      "text/plain": [
       "16.0"
      ]
     },
     "execution_count": 61,
     "metadata": {},
     "output_type": "execute_result"
    }
   ],
   "source": [
    "math.pow(2,4)"
   ]
  },
  {
   "cell_type": "code",
   "execution_count": 62,
   "id": "4f7ec22b",
   "metadata": {},
   "outputs": [
    {
     "data": {
      "text/plain": [
       "3"
      ]
     },
     "execution_count": 62,
     "metadata": {},
     "output_type": "execute_result"
    }
   ],
   "source": [
    "import random as ran\n",
    "ran.randint(0,10)"
   ]
  },
  {
   "cell_type": "code",
   "execution_count": 63,
   "id": "5b64f736",
   "metadata": {},
   "outputs": [
    {
     "name": "stdout",
     "output_type": "stream",
     "text": [
      "Collecting numpy\n",
      "  Downloading numpy-1.24.2-cp311-cp311-win_amd64.whl (14.8 MB)\n",
      "     ---------------------------------------- 14.8/14.8 MB 4.9 MB/s eta 0:00:00\n",
      "Installing collected packages: numpy\n",
      "Successfully installed numpy-1.24.2\n"
     ]
    },
    {
     "name": "stderr",
     "output_type": "stream",
     "text": [
      "\n",
      "[notice] A new release of pip available: 22.3.1 -> 23.0.1\n",
      "[notice] To update, run: python.exe -m pip install --upgrade pip\n"
     ]
    }
   ],
   "source": [
    "!pip install numpy"
   ]
  },
  {
   "cell_type": "code",
   "execution_count": 64,
   "id": "8dce52a5",
   "metadata": {},
   "outputs": [],
   "source": [
    "import numpy as np"
   ]
  },
  {
   "cell_type": "code",
   "execution_count": 65,
   "id": "0011c781",
   "metadata": {},
   "outputs": [
    {
     "data": {
      "text/plain": [
       "array([0, 1, 2, 3, 4, 5, 6, 7, 8, 9])"
      ]
     },
     "execution_count": 65,
     "metadata": {},
     "output_type": "execute_result"
    }
   ],
   "source": [
    "np.arange(10)"
   ]
  },
  {
   "cell_type": "code",
   "execution_count": 66,
   "id": "191908fd",
   "metadata": {},
   "outputs": [
    {
     "name": "stdout",
     "output_type": "stream",
     "text": [
      "1.4142135623730951\n",
      "4.0\n",
      "3.141592653589793\n"
     ]
    }
   ],
   "source": [
    "from math import log2, pi, sqrt\n",
    "print(sqrt(2))\n",
    "print(log2(16))\n",
    "print(pi)"
   ]
  },
  {
   "cell_type": "code",
   "execution_count": 67,
   "id": "17274e07",
   "metadata": {},
   "outputs": [],
   "source": [
    "from math import*\n"
   ]
  },
  {
   "cell_type": "code",
   "execution_count": 68,
   "id": "38d709d6",
   "metadata": {},
   "outputs": [],
   "source": [
    "import os"
   ]
  },
  {
   "cell_type": "code",
   "execution_count": 69,
   "id": "400a59a1",
   "metadata": {},
   "outputs": [],
   "source": [
    "os.mkdir('teste')"
   ]
  },
  {
   "cell_type": "code",
   "execution_count": 70,
   "id": "754bccd8",
   "metadata": {},
   "outputs": [
    {
     "data": {
      "text/plain": [
       "['.ipynb_checkpoints',\n",
       " 'Aula_2.ipynb',\n",
       " 'codigo para instalar.txt',\n",
       " 'teste',\n",
       " 'Untitled.ipynb']"
      ]
     },
     "execution_count": 70,
     "metadata": {},
     "output_type": "execute_result"
    }
   ],
   "source": [
    "os.listdir()"
   ]
  },
  {
   "cell_type": "code",
   "execution_count": 71,
   "id": "3ce9b07e",
   "metadata": {},
   "outputs": [],
   "source": [
    "os.rmdir('teste')"
   ]
  },
  {
   "cell_type": "code",
   "execution_count": 77,
   "id": "25ea3a47",
   "metadata": {},
   "outputs": [],
   "source": [
    "os.rename('teste1.txt','Aula.txt')"
   ]
  },
  {
   "cell_type": "code",
   "execution_count": 78,
   "id": "460836e7",
   "metadata": {},
   "outputs": [],
   "source": [
    "os.remove('Aula.txt')"
   ]
  },
  {
   "cell_type": "code",
   "execution_count": 80,
   "id": "f84c52dd",
   "metadata": {},
   "outputs": [
    {
     "data": {
      "text/plain": [
       "'C:\\\\Users\\\\10396316654\\\\Desktop\\\\jupyter\\\\colab'"
      ]
     },
     "execution_count": 80,
     "metadata": {},
     "output_type": "execute_result"
    }
   ],
   "source": [
    "os.getcwd()"
   ]
  },
  {
   "cell_type": "code",
   "execution_count": 81,
   "id": "907e654b",
   "metadata": {},
   "outputs": [
    {
     "name": "stdout",
     "output_type": "stream",
     "text": [
      "['Aula_2.ipynb', 'codigo para instalar.txt', 'Untitled.ipynb']\n"
     ]
    }
   ],
   "source": [
    "import glob \n",
    "print(glob.glob('*'))"
   ]
  },
  {
   "cell_type": "code",
   "execution_count": 82,
   "id": "e3c6845f",
   "metadata": {},
   "outputs": [
    {
     "name": "stdout",
     "output_type": "stream",
     "text": [
      "cmd:\n",
      "\n",
      "pip install jupyter\n",
      "\n",
      "\n",
      "\n",
      "crie uma pasta colab\n",
      "\n",
      "dentro da pasta digite:\n",
      "\n",
      "jupyter notebook\n"
     ]
    }
   ],
   "source": [
    "for file in glob.glob('*.txt'):\n",
    "    for line in open(file):\n",
    "        print(line)"
   ]
  },
  {
   "cell_type": "code",
   "execution_count": null,
   "id": "73b7af86",
   "metadata": {},
   "outputs": [],
   "source": []
  }
 ],
 "metadata": {
  "kernelspec": {
   "display_name": "Python 3 (ipykernel)",
   "language": "python",
   "name": "python3"
  },
  "language_info": {
   "codemirror_mode": {
    "name": "ipython",
    "version": 3
   },
   "file_extension": ".py",
   "mimetype": "text/x-python",
   "name": "python",
   "nbconvert_exporter": "python",
   "pygments_lexer": "ipython3",
   "version": "3.11.1"
  }
 },
 "nbformat": 4,
 "nbformat_minor": 5
}
